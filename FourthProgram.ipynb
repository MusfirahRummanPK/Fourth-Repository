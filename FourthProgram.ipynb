{
 "cells": [
  {
   "cell_type": "markdown",
   "id": "0f1720af",
   "metadata": {},
   "source": [
    "# Integer\n",
    "\n",
    "### Definition :\n",
    "##### It represents whole numbers ( positive or negative ) without decimal points .\n",
    "### Example :"
   ]
  },
  {
   "cell_type": "code",
   "execution_count": 5,
   "id": "4df0d560",
   "metadata": {},
   "outputs": [
    {
     "name": "stdout",
     "output_type": "stream",
     "text": [
      "5\n",
      "12\n",
      "90\n"
     ]
    }
   ],
   "source": [
    "marks = 90\n",
    "students = 12\n",
    "grade = 5\n",
    "print(grade)\n",
    "print(students)\n",
    "print(marks)"
   ]
  },
  {
   "cell_type": "markdown",
   "id": "cd6be2b2",
   "metadata": {},
   "source": [
    "# Float\n",
    "### Definition :\n",
    "##### It represents decimal numbers ( positive or negative ) .\n",
    "### Example :"
   ]
  },
  {
   "cell_type": "code",
   "execution_count": 6,
   "id": "ccc2d738",
   "metadata": {},
   "outputs": [
    {
     "name": "stdout",
     "output_type": "stream",
     "text": [
      "22.7\n",
      "96.5\n",
      "12.9\n"
     ]
    }
   ],
   "source": [
    "depth = 22.7 # in feet\n",
    "length = 96.5 # in meters\n",
    "width = 12.9 # in miles\n",
    "print(depth)\n",
    "print(length)\n",
    "print(width)"
   ]
  },
  {
   "cell_type": "markdown",
   "id": "5f2b3e88",
   "metadata": {},
   "source": [
    "# String\n",
    "### Definition :\n",
    "##### It represents a collection of characters , words or sentences enclosed within cotation marks ('' or \"\") .\n",
    "### Example :"
   ]
  },
  {
   "cell_type": "code",
   "execution_count": 7,
   "id": "e80d96d9",
   "metadata": {},
   "outputs": [
    {
     "name": "stdout",
     "output_type": "stream",
     "text": [
      "banana\n",
      "green\n",
      "donzen\n"
     ]
    }
   ],
   "source": [
    "fruit = \"banana\"\n",
    "colour = \"green\"\n",
    "quantity = \"donzen\"\n",
    "print(fruit)\n",
    "print(colour)\n",
    "print(quantity)"
   ]
  },
  {
   "cell_type": "markdown",
   "id": "c20fdd3b",
   "metadata": {},
   "source": [
    "# Boolean\n",
    "### Definition :\n",
    "##### It represnts true or false values only .\n",
    "### Example : "
   ]
  },
  {
   "cell_type": "code",
   "execution_count": 8,
   "id": "ad82354f",
   "metadata": {},
   "outputs": [
    {
     "name": "stdout",
     "output_type": "stream",
     "text": [
      "True\n",
      "False\n"
     ]
    }
   ],
   "source": [
    "hail_outside = True\n",
    "rain_outside = False\n",
    "print(True)\n",
    "print(False)"
   ]
  }
 ],
 "metadata": {
  "kernelspec": {
   "display_name": "base",
   "language": "python",
   "name": "python3"
  },
  "language_info": {
   "codemirror_mode": {
    "name": "ipython",
    "version": 3
   },
   "file_extension": ".py",
   "mimetype": "text/x-python",
   "name": "python",
   "nbconvert_exporter": "python",
   "pygments_lexer": "ipython3",
   "version": "3.12.7"
  }
 },
 "nbformat": 4,
 "nbformat_minor": 5
}
